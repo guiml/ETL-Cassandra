{
 "cells": [
  {
   "cell_type": "markdown",
   "source": [
    "# Part I. ETL Pipeline for Pre-Processing the Files\n",
    "\n",
    "This notebook has the objective of covering the whole ETL Pipeline from preprossessing files into the Cassandra Database, and executing some basic queries. For that the code will generate one table structure per each query needed.\n"
   ],
   "metadata": {
    "editable": true
   }
  },
  {
   "cell_type": "markdown",
   "source": [
    "## Import libraries\n",
    "-----\n"
   ],
   "metadata": {}
  },
  {
   "cell_type": "code",
   "execution_count": 1,
   "source": [
    "# Import Python packages \n",
    "import pandas as pd\n",
    "import cassandra\n",
    "import re\n",
    "import os\n",
    "import glob\n",
    "import numpy as np\n",
    "import json\n",
    "import csv"
   ],
   "outputs": [],
   "metadata": {
    "editable": true
   }
  },
  {
   "cell_type": "markdown",
   "source": [
    "## Environment checks and configurations\n",
    "------"
   ],
   "metadata": {}
  },
  {
   "cell_type": "code",
   "execution_count": 2,
   "source": [
    "# checking your current working directory\n",
    "print(os.getcwd())\n",
    "\n",
    "# Get your current folder and subfolder event data\n",
    "filepath = os.getcwd() + '/event_data'\n",
    "\n",
    "# Create a for loop to create a list of files and collect each filepath\n",
    "for root, dirs, files in os.walk(filepath):\n",
    "    \n",
    "# join the file path and roots with the subdirectories using glob\n",
    "    file_path_list = glob.glob(os.path.join(root,'*'))\n",
    "    #print(file_path_list)"
   ],
   "outputs": [
    {
     "output_type": "stream",
     "name": "stdout",
     "text": [
      "/Users/guilherme/Documents/OneDrive/DataAnalytics/Python/ETL Cassandra\n"
     ]
    }
   ],
   "metadata": {
    "editable": true
   }
  },
  {
   "cell_type": "markdown",
   "source": [
    "## Creation of ETL function\n",
    "------\n",
    "Function that iterate through the files list and for each file open the file and append the data into a list. This list is eventually written into the _event_datafile_new.csv_ to be consumed at once into the Cassandra DB"
   ],
   "metadata": {}
  },
  {
   "cell_type": "code",
   "execution_count": 3,
   "source": [
    "# initiating an empty list of rows that will be generated from each file\n",
    "full_data_rows_list = [] \n",
    "    \n",
    "# for every filepath in the file path list \n",
    "for f in file_path_list:\n",
    "\n",
    "# reading csv file \n",
    "    with open(f, 'r', encoding = 'utf8', newline='') as csvfile: \n",
    "        # creating a csv reader object \n",
    "        csvreader = csv.reader(csvfile) \n",
    "        next(csvreader)\n",
    "        \n",
    " # extracting each data row one by one and append it        \n",
    "        for line in csvreader:\n",
    "            #print(line)\n",
    "            full_data_rows_list.append(line) \n",
    "            \n",
    "\n",
    "# creating a smaller event data csv file called event_datafile_full csv that will be used to insert data into the \\\n",
    "# Apache Cassandra tables\n",
    "csv.register_dialect('myDialect', quoting=csv.QUOTE_ALL, skipinitialspace=True)\n",
    "\n",
    "with open('event_datafile_new.csv', 'w', encoding = 'utf8', newline='') as f:\n",
    "    writer = csv.writer(f, dialect='myDialect')\n",
    "    writer.writerow(['artist','firstName','gender','itemInSession','lastName','length',\\\n",
    "                'level','location','sessionId','song','userId'])\n",
    "    for row in full_data_rows_list:\n",
    "        if (row[0] == ''):\n",
    "            continue\n",
    "        writer.writerow((row[0], row[2], row[3], row[4], row[5], row[6], row[7], row[8], row[12], row[13], row[16]))\n"
   ],
   "outputs": [],
   "metadata": {
    "editable": true
   }
  },
  {
   "cell_type": "markdown",
   "source": [
    "## Health check on the extraction function above, to check if the file was loaded properly\n",
    "------\n",
    "Expect 6821 rows"
   ],
   "metadata": {}
  },
  {
   "cell_type": "code",
   "execution_count": 4,
   "source": [
    "# check the number of rows in your csv file\n",
    "with open('event_datafile_new.csv', 'r', encoding = 'utf8') as f:\n",
    "    print(sum(1 for line in f))"
   ],
   "outputs": [
    {
     "output_type": "stream",
     "name": "stdout",
     "text": [
      "6821\n"
     ]
    }
   ],
   "metadata": {
    "editable": true
   }
  },
  {
   "cell_type": "markdown",
   "source": [
    "## Start connection with Cassandra instance\n",
    "------"
   ],
   "metadata": {}
  },
  {
   "cell_type": "code",
   "execution_count": 5,
   "source": [
    "# Make a connection Cassandra instance\n",
    "from cassandra.cluster import Cluster\n",
    "cluster = Cluster(['127.0.0.1'])\n",
    "\n",
    "# Establish connection\n",
    "session = cluster.connect()"
   ],
   "outputs": [],
   "metadata": {
    "editable": true
   }
  },
  {
   "cell_type": "markdown",
   "source": [
    "## Create Keyspace\n",
    "------"
   ],
   "metadata": {}
  },
  {
   "cell_type": "code",
   "execution_count": 6,
   "source": [
    "# Keyspace creation\n",
    "session.execute(\"\"\"\n",
    "CREATE KEYSPACE IF NOT EXISTS udacity \n",
    "WITH REPLICATION = \n",
    "{ 'class' : 'SimpleStrategy', 'replication_factor' : 1 }\"\"\"\n",
    ")"
   ],
   "outputs": [
    {
     "output_type": "execute_result",
     "data": {
      "text/plain": [
       "<cassandra.cluster.ResultSet at 0x7f8cb1787400>"
      ]
     },
     "metadata": {},
     "execution_count": 6
    }
   ],
   "metadata": {
    "editable": true
   }
  },
  {
   "cell_type": "markdown",
   "source": [
    "## Set session in the created Keyspace\n",
    "------"
   ],
   "metadata": {}
  },
  {
   "cell_type": "code",
   "execution_count": 7,
   "source": [
    "# Set Keyspace\n",
    "session.set_keyspace('udacity')"
   ],
   "outputs": [],
   "metadata": {
    "editable": true
   }
  },
  {
   "cell_type": "markdown",
   "source": [
    "## Create 3 table structures, one for each query:\n",
    "-------\n",
    "* Table _song_info_by_session_ so it is possible to query artists, song title and song's lentgth given a certain sessionId and Item In Session\n",
    "* Table _artist_sing_by_user_session_ so it is possible to query artist name and song sorted by Item in Session and user first and last name given certain user and session sessionId\n",
    "* Table _user_name_listened_All_Hands_Against_His_Own_ so it is possible to query First and Last name of users who listened to a specific song\n",
    "   "
   ],
   "metadata": {}
  },
  {
   "cell_type": "code",
   "execution_count": 8,
   "source": [
    "# Create one table structure per query need\n",
    "\n",
    "## Create table structure for query need 1: Retrieve artist, song title and song's length in the music app \\ \n",
    "## history that was heard during sessionId = 338, and itemInSession = 4\n",
    "query1_create = \"\"\"\n",
    "CREATE TABLE IF NOT EXISTS song_info_by_session (\n",
    "    sessionid int,\n",
    "    item_in_session int,\n",
    "    artist text,\n",
    "    length float,\n",
    "    song_title text,\n",
    "    PRIMARY KEY (\n",
    "        sessionId, \n",
    "        item_in_session\n",
    "        ))\"\"\"\n",
    "session.execute(query1_create)\n",
    "\n",
    "## Create table structure for query 2: Retrive only the following: name of artist, song (sorted by itemInSession) \\ \n",
    "## and user (first and last name) for userid = 10, sessionid = 182\n",
    "query2_create = \"\"\"\n",
    "CREATE TABLE IF NOT EXISTS artist_song_by_user_session (\n",
    "    userid int,\n",
    "    sessionid int,\n",
    "    item_in_session int,\n",
    "    artist text,\n",
    "    firstname text,\n",
    "    lastname text,\n",
    "    song_title text,\n",
    "    PRIMARY KEY (\n",
    "        (userid, \n",
    "        sessionid),\n",
    "        item_in_session\n",
    "        ))\"\"\"\n",
    "session.execute(query2_create)\n",
    "\n",
    "## Create table structure for query 3: Retrieve every user name (first and last) in my music app history who listened to\\ \n",
    "##  the song 'All Hands Against His Own'\n",
    "query3_create = \"\"\"\n",
    "CREATE TABLE IF NOT EXISTS user_name_listened_All_Hands_Against_His_Own (\n",
    "    song_title text,\n",
    "    userid int,\n",
    "    firstname text,\n",
    "    lastname text,\n",
    "    PRIMARY KEY (\n",
    "        song_title, \n",
    "        userid    \n",
    "       ))\"\"\"\n",
    "session.execute(query3_create)"
   ],
   "outputs": [
    {
     "output_type": "execute_result",
     "data": {
      "text/plain": [
       "<cassandra.cluster.ResultSet at 0x7f8cb382b940>"
      ]
     },
     "metadata": {},
     "execution_count": 8
    }
   ],
   "metadata": {
    "editable": true
   }
  },
  {
   "cell_type": "markdown",
   "source": [
    "## Ingest data into the data structures\n",
    "-------\n",
    "* _query1_ insert the values from the _event_datafile_new.csv_ file into the _song_info_by_session_ table respecting the order of the partition key \n",
    "\n",
    "* _query2_ insert the values from the _event_datafile_new.csv_ file into the _artist_song_by_user_session_ table respecting the order of the partition key \n",
    "\n",
    "* _query3_ insert the values from the _event_datafile_new.csv_ file into the _user_name_listened_All_Hands_Against_His_Own_ table respecting the order of the partition key \n"
   ],
   "metadata": {}
  },
  {
   "cell_type": "code",
   "execution_count": 9,
   "source": [
    "# Define file name to receive the aggregated data\n",
    "file = 'event_datafile_new.csv'\n",
    "\n",
    "\n",
    "# Import individual files information into the aggregated file data \n",
    "\n",
    "with open(file, encoding = 'utf8') as f:\n",
    "    csvreader = csv.reader(f)\n",
    "    next(csvreader) # skip header\n",
    "    for line in csvreader:\n",
    "        # Define queries 1, 2 and 3 to insert data in the respective structures created above\n",
    "        query1 = \"INSERT INTO song_info_by_session (sessionid, item_in_session, artist, length, song_title)\"\n",
    "        query1 = query1 + \"VALUES (%s, %s, %s, %s, %s)\"\n",
    "        query2 = \"INSERT INTO artist_song_by_user_session (userid, sessionid, item_in_session, artist, firstname, lastname, song_title)\"\n",
    "        query2 = query2 + \"VALUES (%s, %s, %s, %s, %s, %s, %s)\"\n",
    "        query3 = \"INSERT INTO user_name_listened_All_Hands_Against_His_Own (song_title, userid,  firstname, lastname)\"\n",
    "        query3 = query3 + \"VALUES (%s, %s, %s, %s)\"\n",
    "        # Assign each column element for each column in the INSERT statement.\n",
    "        session.execute(query1, (int(line[8]), int(line[3]),line[0], float(line[5]), line[9]))\n",
    "        session.execute(query2, (int(line[10]),int(line[8]), int(line[3]), line[0], line[1], line[4], line[9]))\n",
    "        session.execute(query3, (line[9], int(line[10]),  line[1], line[4]))\n",
    "        "
   ],
   "outputs": [],
   "metadata": {
    "editable": true
   }
  },
  {
   "cell_type": "markdown",
   "source": [
    "## Data quality check\n",
    "-------\n",
    "Check if the data was loaded correctly in each data structure. Each table should contain thousands of records"
   ],
   "metadata": {}
  },
  {
   "cell_type": "code",
   "execution_count": 10,
   "source": [
    "# Check if data was included in table songs1\n",
    "print(\"Total record of song_info_by_session:\")\n",
    "query = \"SELECT COUNT(sessionId) FROM song_info_by_session\"\n",
    "rows = session.execute(query)\n",
    "for row in rows:\n",
    "    print(row[0])\n",
    "\n",
    "# Check if data was included in table songs2\n",
    "print(\"Total record of artist_song_by_user_session:\")\n",
    "query = \"SELECT COUNT(userid) FROM artist_song_by_user_session\"\n",
    "rows = session.execute(query)\n",
    "for row in rows:\n",
    "    print(row[0])\n",
    "\n",
    "# Check if data was included in table songs3\n",
    "print(\"Total record of user_name_listened_All_Hands_Against_His_Own:\")\n",
    "query = \"SELECT COUNT(userid) FROM user_name_listened_All_Hands_Against_His_Own\"\n",
    "rows = session.execute(query)\n",
    "for row in rows:\n",
    "    print(row[0])"
   ],
   "outputs": [
    {
     "output_type": "stream",
     "name": "stdout",
     "text": [
      "Total record of song_info_by_session:\n",
      "6820\n",
      "Total record of artist_song_by_user_session:\n",
      "6820\n",
      "Total record of user_name_listened_All_Hands_Against_His_Own:\n",
      "6618\n"
     ]
    }
   ],
   "metadata": {
    "editable": true,
    "scrolled": true
   }
  },
  {
   "cell_type": "markdown",
   "source": [
    "## Qurery 1\n",
    "-------\n",
    "Retrieve the artist, song title and song's length in the music app history that was heard during sessionId = 338, and itemInSession = 4.\n",
    "\n",
    "In order to achieve the result expected for this query, the table structure for this query is composed of a compound key (sessionID and Item In Session)"
   ],
   "metadata": {}
  },
  {
   "cell_type": "code",
   "execution_count": 11,
   "source": [
    "## Query 1:  Give me the artist, song title and song's length in the music app history that was heard during \\\n",
    "## sessionId = 338, and itemInSession = 4\n",
    "\n",
    "query1 = \"SELECT artist, song_title, length FROM song_info_by_session WHERE sessionId = 338 AND item_in_session = 4\"\n",
    "rows1 = session.execute(query1)\n",
    "for row1 in rows1:\n",
    "    print (row1.artist, row1.song_title, row1.length)             "
   ],
   "outputs": [
    {
     "output_type": "stream",
     "name": "stdout",
     "text": [
      "Faithless Music Matters (Mark Knight Dub) 495.30731201171875\n"
     ]
    }
   ],
   "metadata": {}
  },
  {
   "cell_type": "markdown",
   "source": [
    "## Qurery 2\n",
    "-------\n",
    "Retrieve name of artist, song (sorted by itemInSession) and user (first and last name) for userid = 10, sessionid = 182\n",
    "\n",
    "In order to achieve the result expected for this query, the table structure for this query is composed of a compound key (sessionID and userid)"
   ],
   "metadata": {}
  },
  {
   "cell_type": "code",
   "execution_count": 12,
   "source": [
    "## Query 2: Give me only the following: name of artist, song (sorted by itemInSession) and user (first and last name)\\\n",
    "## for userid = 10, sessionid = 182\n",
    "query2 = \"SELECT artist, song_title, firstname, lastname FROM artist_song_by_user_session WHERE userid = 10 AND sessionid = 182 ORDER BY item_in_session\"\n",
    "rows2 = session.execute(query2)\n",
    "for row2 in rows2:\n",
    "    print (row2.artist, row2.song_title, row2.firstname, row2.lastname)    "
   ],
   "outputs": [
    {
     "output_type": "stream",
     "name": "stdout",
     "text": [
      "Down To The Bone Keep On Keepin' On Sylvie Cruz\n",
      "Three Drives Greece 2000 Sylvie Cruz\n",
      "Sebastien Tellier Kilometer Sylvie Cruz\n",
      "Lonnie Gordon Catch You Baby (Steve Pitron & Max Sanna Radio Edit) Sylvie Cruz\n"
     ]
    }
   ],
   "metadata": {
    "editable": true
   }
  },
  {
   "cell_type": "markdown",
   "source": [
    "## Qurery 3\n",
    "-------\n",
    "Retrieve user name (first and last) in my music app history who listened to the song 'All Hands Against His Own'\n",
    "\n",
    "In order to achieve the result expected for this query, the table structure for this query is composed of a partition key and two clustering keys"
   ],
   "metadata": {}
  },
  {
   "cell_type": "code",
   "execution_count": 13,
   "source": [
    "## Query 3: Give me every user name (first and last) in my music app history who listened to the song 'All Hands Against His Own'\n",
    "query3 = \"SELECT firstname, lastname FROM user_name_listened_All_Hands_Against_His_Own WHERE song_title = 'All Hands Against His Own' \"\n",
    "rows3 = session.execute(query3)\n",
    "for row3 in rows3:\n",
    "    print (row3.firstname, row3.lastname)"
   ],
   "outputs": [
    {
     "output_type": "stream",
     "name": "stdout",
     "text": [
      "Jacqueline Lynch\n",
      "Tegan Levine\n",
      "Sara Johnson\n"
     ]
    }
   ],
   "metadata": {
    "editable": true
   }
  },
  {
   "cell_type": "markdown",
   "source": [
    "## Drop the tables before closing out the sessions\n",
    "------"
   ],
   "metadata": {
    "editable": true
   }
  },
  {
   "cell_type": "code",
   "execution_count": 14,
   "source": [
    "## TO-DO: Drop the table before closing out the sessions\n",
    "rows3 = session.execute('DROP TABLE song_info_by_session')\n",
    "rows3 = session.execute('DROP TABLE artist_song_by_user_session')\n",
    "rows3 = session.execute('DROP TABLE user_name_listened_All_Hands_Against_His_Own')"
   ],
   "outputs": [],
   "metadata": {
    "editable": true
   }
  },
  {
   "cell_type": "markdown",
   "source": [
    "## Shutdown session\n",
    "-------\n",
    "End of script"
   ],
   "metadata": {}
  },
  {
   "cell_type": "code",
   "execution_count": 15,
   "source": [
    "session.shutdown()\n",
    "cluster.shutdown()"
   ],
   "outputs": [],
   "metadata": {
    "editable": true
   }
  },
  {
   "cell_type": "code",
   "execution_count": null,
   "source": [],
   "outputs": [],
   "metadata": {}
  }
 ],
 "metadata": {
  "kernelspec": {
   "name": "python3",
   "display_name": "Python 3.9.5 64-bit"
  },
  "language_info": {
   "codemirror_mode": {
    "name": "ipython",
    "version": 3
   },
   "file_extension": ".py",
   "mimetype": "text/x-python",
   "name": "python",
   "nbconvert_exporter": "python",
   "pygments_lexer": "ipython3",
   "version": "3.9.5"
  },
  "interpreter": {
   "hash": "aee8b7b246df8f9039afb4144a1f6fd8d2ca17a180786b69acc140d282b71a49"
  }
 },
 "nbformat": 4,
 "nbformat_minor": 4
}